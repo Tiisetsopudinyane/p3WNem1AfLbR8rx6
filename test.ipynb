{
 "metadata": {
  "language_info": {
   "codemirror_mode": {
    "name": "ipython",
    "version": 3
   },
   "file_extension": ".py",
   "mimetype": "text/x-python",
   "name": "python",
   "nbconvert_exporter": "python",
   "pygments_lexer": "ipython3",
   "version": "3.9.2"
  },
  "orig_nbformat": 2,
  "kernelspec": {
   "name": "python392jvsc74a57bd0bb73d16caa132f2f3a269dd591fb2998e933846ca639d895f36468d29817dbbe",
   "display_name": "Python 3.9.2 64-bit"
  }
 },
 "nbformat": 4,
 "nbformat_minor": 2,
 "cells": [
  {
   "cell_type": "code",
   "execution_count": 2,
   "metadata": {},
   "outputs": [],
   "source": [
    "from selenium import webdriver\n",
    "from webdriver_manager.chrome import ChromeDriverManager\n",
    "from selenium.webdriver.common.keys import Keys\n",
    "from selenium.webdriver.chrome.options import Options\n",
    "import time"
   ]
  },
  {
   "cell_type": "code",
   "execution_count": 6,
   "metadata": {},
   "outputs": [
    {
     "output_type": "stream",
     "name": "stderr",
     "text": [
      "\n",
      "\n",
      "====== WebDriver manager ======\n",
      "Current google-chrome version is 90.0.4430\n",
      "Get LATEST driver version for 90.0.4430\n",
      "Driver [C:\\Users\\malva\\.wdm\\drivers\\chromedriver\\win32\\90.0.4430.24\\chromedriver.exe] found in cache\n"
     ]
    },
    {
     "output_type": "error",
     "ename": "NoSuchElementException",
     "evalue": "Message: no such element: Unable to locate element: {\"method\":\"xpath\",\"selector\":\"/html/body/div/div/div/div[2]/main/div/div/div/div/div/div[2]/div/div/section/div/div/div[3]/div/div\"}\n  (Session info: chrome=90.0.4430.93)\n",
     "traceback": [
      "\u001b[1;31m---------------------------------------------------------------------------\u001b[0m",
      "\u001b[1;31mNoSuchElementException\u001b[0m                    Traceback (most recent call last)",
      "\u001b[1;32m<ipython-input-6-4c7f11c381a3>\u001b[0m in \u001b[0;36m<module>\u001b[1;34m\u001b[0m\n\u001b[0;32m     13\u001b[0m \u001b[0msearchBarPath\u001b[0m\u001b[1;33m.\u001b[0m\u001b[0msend_keys\u001b[0m\u001b[1;33m(\u001b[0m\u001b[0mKeys\u001b[0m\u001b[1;33m.\u001b[0m\u001b[0mENTER\u001b[0m\u001b[1;33m)\u001b[0m\u001b[1;33m\u001b[0m\u001b[1;33m\u001b[0m\u001b[0m\n\u001b[0;32m     14\u001b[0m \u001b[0mtime\u001b[0m\u001b[1;33m.\u001b[0m\u001b[0msleep\u001b[0m\u001b[1;33m(\u001b[0m\u001b[1;36m3\u001b[0m\u001b[1;33m)\u001b[0m\u001b[1;33m\u001b[0m\u001b[1;33m\u001b[0m\u001b[0m\n\u001b[1;32m---> 15\u001b[1;33m \u001b[0mpic\u001b[0m\u001b[1;33m=\u001b[0m\u001b[0mdriver\u001b[0m\u001b[1;33m.\u001b[0m\u001b[0mfind_element_by_xpath\u001b[0m\u001b[1;33m(\u001b[0m\u001b[1;34m'/html/body/div/div/div/div[2]/main/div/div/div/div/div/div[2]/div/div/section/div/div/div[3]/div/div'\u001b[0m\u001b[1;33m)\u001b[0m\u001b[1;33m\u001b[0m\u001b[1;33m\u001b[0m\u001b[0m\n\u001b[0m\u001b[0;32m     16\u001b[0m \u001b[0mpic\u001b[0m\u001b[1;33m.\u001b[0m\u001b[0msend_keys\u001b[0m\u001b[1;33m(\u001b[0m\u001b[0mKeys\u001b[0m\u001b[1;33m.\u001b[0m\u001b[0mENTER\u001b[0m\u001b[1;33m)\u001b[0m\u001b[1;33m\u001b[0m\u001b[1;33m\u001b[0m\u001b[0m\n\u001b[0;32m     17\u001b[0m \u001b[1;31m# mytweets=driver.find_elements_by_xpath('//*[@id=\"react-root\"]/div/div/div[2]/main/div/div/div/div[1]/div/div[2]/div/div/div[2]/section/div/div')\u001b[0m\u001b[1;33m\u001b[0m\u001b[1;33m\u001b[0m\u001b[1;33m\u001b[0m\u001b[0m\n",
      "\u001b[1;32m~\\AppData\\Local\\Programs\\Python\\Python39\\lib\\site-packages\\selenium\\webdriver\\remote\\webdriver.py\u001b[0m in \u001b[0;36mfind_element_by_xpath\u001b[1;34m(self, xpath)\u001b[0m\n\u001b[0;32m    392\u001b[0m             \u001b[0melement\u001b[0m \u001b[1;33m=\u001b[0m \u001b[0mdriver\u001b[0m\u001b[1;33m.\u001b[0m\u001b[0mfind_element_by_xpath\u001b[0m\u001b[1;33m(\u001b[0m\u001b[1;34m'//div/td[1]'\u001b[0m\u001b[1;33m)\u001b[0m\u001b[1;33m\u001b[0m\u001b[1;33m\u001b[0m\u001b[0m\n\u001b[0;32m    393\u001b[0m         \"\"\"\n\u001b[1;32m--> 394\u001b[1;33m         \u001b[1;32mreturn\u001b[0m \u001b[0mself\u001b[0m\u001b[1;33m.\u001b[0m\u001b[0mfind_element\u001b[0m\u001b[1;33m(\u001b[0m\u001b[0mby\u001b[0m\u001b[1;33m=\u001b[0m\u001b[0mBy\u001b[0m\u001b[1;33m.\u001b[0m\u001b[0mXPATH\u001b[0m\u001b[1;33m,\u001b[0m \u001b[0mvalue\u001b[0m\u001b[1;33m=\u001b[0m\u001b[0mxpath\u001b[0m\u001b[1;33m)\u001b[0m\u001b[1;33m\u001b[0m\u001b[1;33m\u001b[0m\u001b[0m\n\u001b[0m\u001b[0;32m    395\u001b[0m \u001b[1;33m\u001b[0m\u001b[0m\n\u001b[0;32m    396\u001b[0m     \u001b[1;32mdef\u001b[0m \u001b[0mfind_elements_by_xpath\u001b[0m\u001b[1;33m(\u001b[0m\u001b[0mself\u001b[0m\u001b[1;33m,\u001b[0m \u001b[0mxpath\u001b[0m\u001b[1;33m)\u001b[0m\u001b[1;33m:\u001b[0m\u001b[1;33m\u001b[0m\u001b[1;33m\u001b[0m\u001b[0m\n",
      "\u001b[1;32m~\\AppData\\Local\\Programs\\Python\\Python39\\lib\\site-packages\\selenium\\webdriver\\remote\\webdriver.py\u001b[0m in \u001b[0;36mfind_element\u001b[1;34m(self, by, value)\u001b[0m\n\u001b[0;32m    974\u001b[0m                 \u001b[0mby\u001b[0m \u001b[1;33m=\u001b[0m \u001b[0mBy\u001b[0m\u001b[1;33m.\u001b[0m\u001b[0mCSS_SELECTOR\u001b[0m\u001b[1;33m\u001b[0m\u001b[1;33m\u001b[0m\u001b[0m\n\u001b[0;32m    975\u001b[0m                 \u001b[0mvalue\u001b[0m \u001b[1;33m=\u001b[0m \u001b[1;34m'[name=\"%s\"]'\u001b[0m \u001b[1;33m%\u001b[0m \u001b[0mvalue\u001b[0m\u001b[1;33m\u001b[0m\u001b[1;33m\u001b[0m\u001b[0m\n\u001b[1;32m--> 976\u001b[1;33m         return self.execute(Command.FIND_ELEMENT, {\n\u001b[0m\u001b[0;32m    977\u001b[0m             \u001b[1;34m'using'\u001b[0m\u001b[1;33m:\u001b[0m \u001b[0mby\u001b[0m\u001b[1;33m,\u001b[0m\u001b[1;33m\u001b[0m\u001b[1;33m\u001b[0m\u001b[0m\n\u001b[0;32m    978\u001b[0m             'value': value})['value']\n",
      "\u001b[1;32m~\\AppData\\Local\\Programs\\Python\\Python39\\lib\\site-packages\\selenium\\webdriver\\remote\\webdriver.py\u001b[0m in \u001b[0;36mexecute\u001b[1;34m(self, driver_command, params)\u001b[0m\n\u001b[0;32m    319\u001b[0m         \u001b[0mresponse\u001b[0m \u001b[1;33m=\u001b[0m \u001b[0mself\u001b[0m\u001b[1;33m.\u001b[0m\u001b[0mcommand_executor\u001b[0m\u001b[1;33m.\u001b[0m\u001b[0mexecute\u001b[0m\u001b[1;33m(\u001b[0m\u001b[0mdriver_command\u001b[0m\u001b[1;33m,\u001b[0m \u001b[0mparams\u001b[0m\u001b[1;33m)\u001b[0m\u001b[1;33m\u001b[0m\u001b[1;33m\u001b[0m\u001b[0m\n\u001b[0;32m    320\u001b[0m         \u001b[1;32mif\u001b[0m \u001b[0mresponse\u001b[0m\u001b[1;33m:\u001b[0m\u001b[1;33m\u001b[0m\u001b[1;33m\u001b[0m\u001b[0m\n\u001b[1;32m--> 321\u001b[1;33m             \u001b[0mself\u001b[0m\u001b[1;33m.\u001b[0m\u001b[0merror_handler\u001b[0m\u001b[1;33m.\u001b[0m\u001b[0mcheck_response\u001b[0m\u001b[1;33m(\u001b[0m\u001b[0mresponse\u001b[0m\u001b[1;33m)\u001b[0m\u001b[1;33m\u001b[0m\u001b[1;33m\u001b[0m\u001b[0m\n\u001b[0m\u001b[0;32m    322\u001b[0m             response['value'] = self._unwrap_value(\n\u001b[0;32m    323\u001b[0m                 response.get('value', None))\n",
      "\u001b[1;32m~\\AppData\\Local\\Programs\\Python\\Python39\\lib\\site-packages\\selenium\\webdriver\\remote\\errorhandler.py\u001b[0m in \u001b[0;36mcheck_response\u001b[1;34m(self, response)\u001b[0m\n\u001b[0;32m    240\u001b[0m                 \u001b[0malert_text\u001b[0m \u001b[1;33m=\u001b[0m \u001b[0mvalue\u001b[0m\u001b[1;33m[\u001b[0m\u001b[1;34m'alert'\u001b[0m\u001b[1;33m]\u001b[0m\u001b[1;33m.\u001b[0m\u001b[0mget\u001b[0m\u001b[1;33m(\u001b[0m\u001b[1;34m'text'\u001b[0m\u001b[1;33m)\u001b[0m\u001b[1;33m\u001b[0m\u001b[1;33m\u001b[0m\u001b[0m\n\u001b[0;32m    241\u001b[0m             \u001b[1;32mraise\u001b[0m \u001b[0mexception_class\u001b[0m\u001b[1;33m(\u001b[0m\u001b[0mmessage\u001b[0m\u001b[1;33m,\u001b[0m \u001b[0mscreen\u001b[0m\u001b[1;33m,\u001b[0m \u001b[0mstacktrace\u001b[0m\u001b[1;33m,\u001b[0m \u001b[0malert_text\u001b[0m\u001b[1;33m)\u001b[0m\u001b[1;33m\u001b[0m\u001b[1;33m\u001b[0m\u001b[0m\n\u001b[1;32m--> 242\u001b[1;33m         \u001b[1;32mraise\u001b[0m \u001b[0mexception_class\u001b[0m\u001b[1;33m(\u001b[0m\u001b[0mmessage\u001b[0m\u001b[1;33m,\u001b[0m \u001b[0mscreen\u001b[0m\u001b[1;33m,\u001b[0m \u001b[0mstacktrace\u001b[0m\u001b[1;33m)\u001b[0m\u001b[1;33m\u001b[0m\u001b[1;33m\u001b[0m\u001b[0m\n\u001b[0m\u001b[0;32m    243\u001b[0m \u001b[1;33m\u001b[0m\u001b[0m\n\u001b[0;32m    244\u001b[0m     \u001b[1;32mdef\u001b[0m \u001b[0m_value_or_default\u001b[0m\u001b[1;33m(\u001b[0m\u001b[0mself\u001b[0m\u001b[1;33m,\u001b[0m \u001b[0mobj\u001b[0m\u001b[1;33m,\u001b[0m \u001b[0mkey\u001b[0m\u001b[1;33m,\u001b[0m \u001b[0mdefault\u001b[0m\u001b[1;33m)\u001b[0m\u001b[1;33m:\u001b[0m\u001b[1;33m\u001b[0m\u001b[1;33m\u001b[0m\u001b[0m\n",
      "\u001b[1;31mNoSuchElementException\u001b[0m: Message: no such element: Unable to locate element: {\"method\":\"xpath\",\"selector\":\"/html/body/div/div/div/div[2]/main/div/div/div/div/div/div[2]/div/div/section/div/div/div[3]/div/div\"}\n  (Session info: chrome=90.0.4430.93)\n"
     ]
    }
   ],
   "source": [
    "driver=webdriver.Chrome(ChromeDriverManager().install())\n",
    "driver.get('https://twitter.com/explore')\n",
    "\n",
    "# sleep is for the page to load all the elements of the page\n",
    "time.sleep(5)\n",
    "searchBarPath=driver.find_element_by_xpath('/html/body/div/div/div/div[2]/main/div/div/div/div/div/div[1]/div[1]/div/div/div/div/div[1]/div[2]/div/div/div/form/div[1]/div/div/div[2]/input')\n",
    "# delete any placeholder text in the seach_box if found\n",
    "searchBarPath.send_keys(Keys.CONTROL+'a')\n",
    "searchBarPath.send_keys(Keys.DELETE)\n",
    "\n",
    "tweetss=\"request for startup\"\n",
    "searchBarPath.send_keys(tweetss)\n",
    "searchBarPath.send_keys(Keys.ENTER)\n",
    "time.sleep(3)\n",
    "pic=driver.find_element_by_xpath('/html/body/div/div/div/div[2]/main/div/div/div/div/div/div[2]/div/div/section/div/div/div[3]/div/div')\n",
    "pic.send_keys(Keys.ENTER)\n",
    "# mytweets=driver.find_elements_by_xpath('//*[@id=\"react-root\"]/div/div/div[2]/main/div/div/div/div[1]/div/div[2]/div/div/div[2]/section/div/div')\n",
    "html=driver.find_element_by_tag_name('html')\n",
    "html.send_keys(Keys.END)\n",
    "driver.get('https://twitter.com/Request4Startup')\n",
    "driver.execute_script(\"window.scrollTo(0,document.body.scrollHeight)\")\n",
    "time.sleep(3)\n",
    "\n",
    "\n"
   ]
  },
  {
   "cell_type": "code",
   "execution_count": null,
   "metadata": {},
   "outputs": [],
   "source": [
    "mytweets=driver.find_elements_by_xpath('//*[@id=\"react-root\"]/div/div/div[2]/main/div/div/div/div[1]/div/div[2]/div/div/div[2]/section')[0]\n",
    "mytweets.text"
   ]
  },
  {
   "source": [
    "## TEXT\n"
   ],
   "cell_type": "markdown",
   "metadata": {}
  },
  {
   "cell_type": "code",
   "execution_count": 47,
   "metadata": {},
   "outputs": [
    {
     "output_type": "execute_result",
     "data": {
      "text/plain": [
       "\"Pinned Tweet\\nRequest For Startup\\n@Request4Startup\\n·\\nDec 28, 2016\\n 2016's most popular #RequestForStartup's\\nRequest For Startup\\n@Request4Startup\\n2016's most popular #RequestForStartup's\\n1\\n6\\n15\\nRequest For Startup Retweeted\\nSharath\\n@5harath\\n·\\nMay 31, 2019\\nA social network specifically for travel recommendations - \\n@TaylorMajewski\\nAn app which finds meeting time upon touching phones - \\n@benedictevans\\nSearch for podcast episodes by specific topic - \\n@podcastnotes\\nCheck #RequestForProduct ideas for inspiration\\nA crowdsourced directory of product ideas people wish exist.\\n#requestforproduct\\nrequestforproduct.co\\n3\\n5\\nRequest For Startup Retweeted\\nJules Ehrhardt\\n@ezyjules\\n·\\nMay 30, 2019\\nRequest for product: A baguette, except it's one foot longer than regular baguettes so you feel less guilty eating half in one sitting.\\n1\\n10\\nRequest For Startup Retweeted\\nTaylor Majewski\\n@TaylorMajewski\\n·\\nMay 30, 2019\\nRequest for product: a social network specifically for travel recommendations. Would love to see what my friends recommend without blasting out that I'm heading to a certain location and need recs. I feel like this should already exist. Does it already exist??\\n9\\n2\\n21\\nRequest For Startup Retweeted\\nProduct Hunt\\n@ProductHunt\\n·\\nMay 29, 2019\\nA 13 year old \\n@gbougakov\\n built an app to simplify grocery shopping after seeing a request for product tweet \\n http://producthunt.com/posts/docket-3\\nGeorge B.\\n2\\n4\\n16\\nRequest For Startup Retweeted\\nSergio Mattei\\n@matteing\\n·\\nJun 1, 2019\\n#RequestForProduct: \\n\\nNotifications app that reads you your texts in Morse code by vibrating in your pocket, so you can read texts without opening your phone. \\n5\\n7\\n32\""
      ]
     },
     "metadata": {},
     "execution_count": 47
    }
   ],
   "source": [
    "mytweets.text"
   ]
  },
  {
   "cell_type": "code",
   "execution_count": 48,
   "metadata": {},
   "outputs": [],
   "source": [
    "def get_tweets_info(mytweets, max_tweet=10):\n",
    "    lst_tweets = [] # return list\n",
    "\n",
    "    lst_tweets_driver = []\n",
    "    for index in range(1,max_tweet):\n",
    "        elm_tweet = mytweets.find_elements_by_xpath(f'//*[@id=\"react-root\"]/div/div/div[2]/main/div/div/div/div/div/div[2]/div/div/div[2]/section/div/div/div[2]')\n",
    "        print(elm_tweet[0].text)\n",
    "        if(len(elm_tweet)>0):\n",
    "            lst_tweets_driver.append(elm_tweet[0])\n",
    "            \n",
    "        \n",
    "    for mytweet in lst_tweets_driver:\n",
    "        # username\n",
    "        username=mytweet.find_element_by_xpath('//*[@id=\"react-root\"]/div/div/div[2]/main/div/div/div/div/div/div[2]/div/div/div[2]/section/div/div/div[1]/div/div/article/div/div/div/div[2]/div[2]/div[1]/div/div[1]/div[1]/div[1]/a/div/div[2]/div').text\n",
    "        # handlename\n",
    "        handle=mytweet.find_element_by_xpath('//*[@id=\"react-root\"]/div/div/div[2]/main/div/div/div/div/div/div[2]/div/div/div[2]/section/div/div/div[1]/div/div/article/div/div/div/div[2]/div[2]/div[1]/div/div[1]/div[1]/div[1]/a/div/div[1]/div[1]').text\n",
    "        # time posted\n",
    "        postTime=mytweet.find_element_by_xpath('/html/body/div/div/div/div[2]/main/div/div/div/div/div/div[2]/div/div/div[2]/section/div/div/div[1]/div/div/article/div/div/div/div[2]/div[2]/div[1]/div/div[1]/div[1]/a/time').text\n",
    "        # tweet comment\n",
    "        x=mytweet.find_element_by_xpath('/html/body/div/div/div/div[2]/main/div/div/div/div/div/div[2]/div/div/div[2]/section/div/div/div[1]/div/div/article/div/div/div/div[2]/div[2]/div[2]/div[1]').text\n",
    "        # content\n",
    "        y=mytweet.find_element_by_xpath('/html/body/div/div/div/div[2]/main/div/div/div/div/div/div[2]/div/div/div[2]/section/div/div/div[1]/div/div/article/div/div/div/div[2]/div[2]/div[2]/div[2]').text\n",
    "        z=x+y\n",
    "        # replies\n",
    "        replies=mytweet.find_element_by_xpath('/html/body/div/div/div/div[2]/main/div/div/div/div/div/div[2]/div/div/div[2]/section/div/div/div[1]/div/div/article/div/div/div/div[2]/div[2]/div[2]/div[3]/div[1]/div').text\n",
    "        # retweets\n",
    "        retweets=mytweet.find_element_by_xpath('/html/body/div/div/div/div[2]/main/div/div/div/div/div/div[2]/div/div/div[2]/section/div/div/div[1]/div/div/article/div/div/div/div[2]/div[2]/div[2]/div[3]/div[2]/div').text\n",
    "        # likes\n",
    "        likes=mytweet.find_element_by_xpath('/html/body/div/div/div/div[2]/main/div/div/div/div/div/div[2]/div/div/div[2]/section/div/div/div[1]/div/div/article/div/div/div/div[2]/div[2]/div[2]/div[3]/div[3]/div').text\n",
    "\n",
    "\n",
    "        tweet=dict(username=username,handle=handle,postTime=postTime,z=z,replies=replies,retweets=retweets,likes=likes)\n",
    "        lst_tweets.append(tweet)\n",
    "        pass\n",
    "    return lst_tweets\n",
    "    pass"
   ]
  },
  {
   "cell_type": "code",
   "execution_count": 49,
   "metadata": {},
   "outputs": [
    {
     "output_type": "stream",
     "name": "stdout",
     "text": [
      "\n",
      "\n",
      "\n",
      "\n",
      "\n",
      "\n",
      "\n",
      "\n",
      "\n"
     ]
    },
    {
     "output_type": "execute_result",
     "data": {
      "text/plain": [
       "[{'username': '@Request4Startup',\n",
       "  'handle': 'Request For Startup',\n",
       "  'postTime': 'Dec 28, 2016',\n",
       "  'z': \" 2016's most popular #RequestForStartup'sRequest For Startup\\n@Request4Startup\\n2016's most popular #RequestForStartup's\",\n",
       "  'replies': '1',\n",
       "  'retweets': '6',\n",
       "  'likes': '15'},\n",
       " {'username': '@Request4Startup',\n",
       "  'handle': 'Request For Startup',\n",
       "  'postTime': 'Dec 28, 2016',\n",
       "  'z': \" 2016's most popular #RequestForStartup'sRequest For Startup\\n@Request4Startup\\n2016's most popular #RequestForStartup's\",\n",
       "  'replies': '1',\n",
       "  'retweets': '6',\n",
       "  'likes': '15'},\n",
       " {'username': '@Request4Startup',\n",
       "  'handle': 'Request For Startup',\n",
       "  'postTime': 'Dec 28, 2016',\n",
       "  'z': \" 2016's most popular #RequestForStartup'sRequest For Startup\\n@Request4Startup\\n2016's most popular #RequestForStartup's\",\n",
       "  'replies': '1',\n",
       "  'retweets': '6',\n",
       "  'likes': '15'},\n",
       " {'username': '@Request4Startup',\n",
       "  'handle': 'Request For Startup',\n",
       "  'postTime': 'Dec 28, 2016',\n",
       "  'z': \" 2016's most popular #RequestForStartup'sRequest For Startup\\n@Request4Startup\\n2016's most popular #RequestForStartup's\",\n",
       "  'replies': '1',\n",
       "  'retweets': '6',\n",
       "  'likes': '15'},\n",
       " {'username': '@Request4Startup',\n",
       "  'handle': 'Request For Startup',\n",
       "  'postTime': 'Dec 28, 2016',\n",
       "  'z': \" 2016's most popular #RequestForStartup'sRequest For Startup\\n@Request4Startup\\n2016's most popular #RequestForStartup's\",\n",
       "  'replies': '1',\n",
       "  'retweets': '6',\n",
       "  'likes': '15'},\n",
       " {'username': '@Request4Startup',\n",
       "  'handle': 'Request For Startup',\n",
       "  'postTime': 'Dec 28, 2016',\n",
       "  'z': \" 2016's most popular #RequestForStartup'sRequest For Startup\\n@Request4Startup\\n2016's most popular #RequestForStartup's\",\n",
       "  'replies': '1',\n",
       "  'retweets': '6',\n",
       "  'likes': '15'},\n",
       " {'username': '@Request4Startup',\n",
       "  'handle': 'Request For Startup',\n",
       "  'postTime': 'Dec 28, 2016',\n",
       "  'z': \" 2016's most popular #RequestForStartup'sRequest For Startup\\n@Request4Startup\\n2016's most popular #RequestForStartup's\",\n",
       "  'replies': '1',\n",
       "  'retweets': '6',\n",
       "  'likes': '15'},\n",
       " {'username': '@Request4Startup',\n",
       "  'handle': 'Request For Startup',\n",
       "  'postTime': 'Dec 28, 2016',\n",
       "  'z': \" 2016's most popular #RequestForStartup'sRequest For Startup\\n@Request4Startup\\n2016's most popular #RequestForStartup's\",\n",
       "  'replies': '1',\n",
       "  'retweets': '6',\n",
       "  'likes': '15'},\n",
       " {'username': '@Request4Startup',\n",
       "  'handle': 'Request For Startup',\n",
       "  'postTime': 'Dec 28, 2016',\n",
       "  'z': \" 2016's most popular #RequestForStartup'sRequest For Startup\\n@Request4Startup\\n2016's most popular #RequestForStartup's\",\n",
       "  'replies': '1',\n",
       "  'retweets': '6',\n",
       "  'likes': '15'}]"
      ]
     },
     "metadata": {},
     "execution_count": 49
    }
   ],
   "source": [
    "lst_tweets = get_tweets_info(mytweets)\n",
    "lst_tweets"
   ]
  },
  {
   "cell_type": "code",
   "execution_count": 50,
   "metadata": {},
   "outputs": [
    {
     "output_type": "execute_result",
     "data": {
      "text/plain": [
       "[{'username': '@Request4Startup',\n",
       "  'handle': 'Request For Startup',\n",
       "  'postTime': 'Dec 28, 2016',\n",
       "  'z': \" 2016's most popular #RequestForStartup'sRequest For Startup\\n@Request4Startup\\n2016's most popular #RequestForStartup's\",\n",
       "  'replies': '1',\n",
       "  'retweets': '6',\n",
       "  'likes': '15'},\n",
       " {'username': '@Request4Startup',\n",
       "  'handle': 'Request For Startup',\n",
       "  'postTime': 'Dec 28, 2016',\n",
       "  'z': \" 2016's most popular #RequestForStartup'sRequest For Startup\\n@Request4Startup\\n2016's most popular #RequestForStartup's\",\n",
       "  'replies': '1',\n",
       "  'retweets': '6',\n",
       "  'likes': '15'},\n",
       " {'username': '@Request4Startup',\n",
       "  'handle': 'Request For Startup',\n",
       "  'postTime': 'Dec 28, 2016',\n",
       "  'z': \" 2016's most popular #RequestForStartup'sRequest For Startup\\n@Request4Startup\\n2016's most popular #RequestForStartup's\",\n",
       "  'replies': '1',\n",
       "  'retweets': '6',\n",
       "  'likes': '15'},\n",
       " {'username': '@Request4Startup',\n",
       "  'handle': 'Request For Startup',\n",
       "  'postTime': 'Dec 28, 2016',\n",
       "  'z': \" 2016's most popular #RequestForStartup'sRequest For Startup\\n@Request4Startup\\n2016's most popular #RequestForStartup's\",\n",
       "  'replies': '1',\n",
       "  'retweets': '6',\n",
       "  'likes': '15'},\n",
       " {'username': '@Request4Startup',\n",
       "  'handle': 'Request For Startup',\n",
       "  'postTime': 'Dec 28, 2016',\n",
       "  'z': \" 2016's most popular #RequestForStartup'sRequest For Startup\\n@Request4Startup\\n2016's most popular #RequestForStartup's\",\n",
       "  'replies': '1',\n",
       "  'retweets': '6',\n",
       "  'likes': '15'},\n",
       " {'username': '@Request4Startup',\n",
       "  'handle': 'Request For Startup',\n",
       "  'postTime': 'Dec 28, 2016',\n",
       "  'z': \" 2016's most popular #RequestForStartup'sRequest For Startup\\n@Request4Startup\\n2016's most popular #RequestForStartup's\",\n",
       "  'replies': '1',\n",
       "  'retweets': '6',\n",
       "  'likes': '15'},\n",
       " {'username': '@Request4Startup',\n",
       "  'handle': 'Request For Startup',\n",
       "  'postTime': 'Dec 28, 2016',\n",
       "  'z': \" 2016's most popular #RequestForStartup'sRequest For Startup\\n@Request4Startup\\n2016's most popular #RequestForStartup's\",\n",
       "  'replies': '1',\n",
       "  'retweets': '6',\n",
       "  'likes': '15'},\n",
       " {'username': '@Request4Startup',\n",
       "  'handle': 'Request For Startup',\n",
       "  'postTime': 'Dec 28, 2016',\n",
       "  'z': \" 2016's most popular #RequestForStartup'sRequest For Startup\\n@Request4Startup\\n2016's most popular #RequestForStartup's\",\n",
       "  'replies': '1',\n",
       "  'retweets': '6',\n",
       "  'likes': '15'},\n",
       " {'username': '@Request4Startup',\n",
       "  'handle': 'Request For Startup',\n",
       "  'postTime': 'Dec 28, 2016',\n",
       "  'z': \" 2016's most popular #RequestForStartup'sRequest For Startup\\n@Request4Startup\\n2016's most popular #RequestForStartup's\",\n",
       "  'replies': '1',\n",
       "  'retweets': '6',\n",
       "  'likes': '15'}]"
      ]
     },
     "metadata": {},
     "execution_count": 50
    }
   ],
   "source": [
    "lst_tweets"
   ]
  },
  {
   "cell_type": "code",
   "execution_count": null,
   "metadata": {},
   "outputs": [],
   "source": []
  },
  {
   "cell_type": "code",
   "execution_count": null,
   "metadata": {},
   "outputs": [],
   "source": []
  },
  {
   "cell_type": "code",
   "execution_count": null,
   "metadata": {},
   "outputs": [],
   "source": []
  }
 ]
}